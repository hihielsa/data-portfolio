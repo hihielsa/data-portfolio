{
 "cells": [
  {
   "cell_type": "markdown",
   "id": "9b5876bd",
   "metadata": {},
   "source": [
    "# Loan Default & Loss Prediction\n",
    "### Shu-Yen Chang\n",
    "### August , 2025"
   ]
  },
  {
   "cell_type": "markdown",
   "id": "2c54a07f",
   "metadata": {},
   "source": [
    "## Introduction\n",
    "This project analyzes a **home equity loan dataset (HMEQ_Loss.csv)** to tackle two key\n",
    "credit risk problems:\n",
    "\n",
    "1. **Default Prediction (Classification)** – Predict whether a borrower will default (`TARGET_BAD_FLAG`).\n",
    "2. **Loss Given Default Prediction (Regression)** – Estimate the expected loss amount if a borrower defaults (`TARGET_LOSS_AMT`).\n",
    "\n",
    "**Motivation**  \n",
    "Accurately predicting loan default and potential loss is central to credit risk management.\n",
    "Financial institutions use these models to allocate capital, set interest rates, and mitigate\n",
    "losses from high-risk borrowers."
   ]
  },
  {
   "cell_type": "markdown",
   "id": "88144342",
   "metadata": {},
   "source": [
    "## Dataset Summary\n",
    "\n",
    "- **Total records:** 5,960  \n",
    "- **Total columns:** 14  \n",
    "\n",
    "### Target Variables\n",
    "- `TARGET_BAD_FLAG`: Binary flag indicating loan default (**0 = No, 1 = Yes**).  \n",
    "- `TARGET_LOSS_AMT`: Loss amount if default occurs (missing for non-default cases).  \n",
    "\n",
    "### Numerical Features (10)\n",
    "`LOAN`, `MORTDUE`, `VALUE`, `YOJ`, `DEROG`, `DELINQ`, `CLAGE`, `NINQ`, `CLNO`, `DEBTINC`  \n",
    "\n",
    "### Categorical Features (2)\n",
    "`REASON`, `JOB`  \n",
    "\n",
    "### Missing Value Overview\n",
    "- `TARGET_LOSS_AMT`: 4,771 missing (only defined when default = 1).  \n",
    "- `MORTDUE`, `YOJ`, `DEROG`, `DELINQ`, `CLAGE`, `NINQ`, `CLNO`, `VALUE`, `DEBTINC`: contain varying levels of missing values.  \n",
    "- `REASON`: 252 missing.  \n",
    "- `JOB`: 279 missing.  \n",
    "\n",
    "### Observations\n",
    "- `TARGET_BAD_FLAG` has no missing values and will be the **primary target for classification**.  \n",
    "- Missing values must be imputed before modeling.  \n",
    "- Categorical features (`REASON`, `JOB`) require encoding (e.g., one-hot encoding)."
   ]
  },
  {
   "cell_type": "code",
   "execution_count": 2,
   "id": "12803296-c106-4883-b0d2-90587d6a66e0",
   "metadata": {},
   "outputs": [],
   "source": [
    "import math\n",
    "import pandas as pd\n",
    "import numpy as np\n",
    "import matplotlib.pyplot as plt\n",
    "import seaborn as sns\n",
    "from sklearn.model_selection import train_test_split\n",
    "import sklearn.metrics as metrics\n",
    "from operator import itemgetter\n",
    "\n",
    "from sklearn import tree\n",
    "from sklearn.tree import _tree\n",
    "sns.set()\n",
    "\n",
    "from sklearn.ensemble import RandomForestRegressor \n",
    "from sklearn.ensemble import RandomForestClassifier \n",
    "\n",
    "from sklearn.ensemble import GradientBoostingRegressor \n",
    "from sklearn.ensemble import GradientBoostingClassifier\n",
    "\n",
    "from sklearn.linear_model import LogisticRegression, LinearRegression\n",
    "\n",
    "from mlxtend.feature_selection import SequentialFeatureSelector as SFS\n",
    "from mlxtend.plotting import plot_sequential_feature_selection as plot_sfs"
   ]
  },
  {
   "cell_type": "code",
   "execution_count": 3,
   "id": "0ce571d1",
   "metadata": {},
   "outputs": [],
   "source": [
    "df = pd.read_csv('HMEQ_Loss.csv')\n",
    "TARGET_F = \"TARGET_BAD_FLAG\"\n",
    "TARGET_A =\"TARGET_LOSS_AMT\"\n",
    "dt = df.dtypes"
   ]
  },
  {
   "cell_type": "code",
   "execution_count": 4,
   "id": "6f1c97b3-0f9a-4093-99dc-11f0c2313f36",
   "metadata": {
    "scrolled": true
   },
   "outputs": [],
   "source": [
    "objList = []\n",
    "numList = []\n",
    "for i in dt.index :\n",
    "    if i in ([TARGET_F, TARGET_A]):continue\n",
    "    if dt[i] in ([\"object\"]) : objList.append(i)\n",
    "    if dt[i] in ([\"float64\", \"int64\"]) : numList.append(i)"
   ]
  },
  {
   "cell_type": "markdown",
   "id": "b15a4364",
   "metadata": {},
   "source": [
    "### Fill in missing with the category \"MISSING\""
   ]
  },
  {
   "cell_type": "code",
   "execution_count": 5,
   "id": "bfc523db-cd6e-451e-af13-c2ff06e6dabb",
   "metadata": {},
   "outputs": [],
   "source": [
    "for i in objList:\n",
    "    if df[i].isna().sum() == 0 : continue\n",
    "    NAME = \"IMP_\" + i\n",
    "    df[NAME]=df[i]\n",
    "    df[NAME]=df[NAME].fillna(\"MISSING\")\n",
    "    df = df.drop(i, axis=1)\n",
    "\n",
    "dt = df.dtypes\n",
    "objList=[]\n",
    "for i in dt.index:\n",
    "    if i in ([TARGET_F, TARGET_A]): continue\n",
    "    if dt[i] in ([\"object\"]) : objList.append(i)"
   ]
  },
  {
   "cell_type": "code",
   "execution_count": 6,
   "id": "69d16ced",
   "metadata": {},
   "outputs": [],
   "source": [
    "for col in objList:\n",
    "    Prefix = \"z_\" + col\n",
    "    dummies = pd.get_dummies(df[col], prefix=Prefix, drop_first=False, dtype=int)\n",
    "    df = pd.concat([df, dummies], axis=1)"
   ]
  },
  {
   "cell_type": "code",
   "execution_count": 7,
   "id": "c95b3cb2",
   "metadata": {},
   "outputs": [],
   "source": [
    "for i in numList:\n",
    "    if df[i].isna().sum()==0:continue\n",
    "    FLAG = \"M_\"+i\n",
    "    IMP =\"IMP_\"+i"
   ]
  },
  {
   "cell_type": "code",
   "execution_count": 8,
   "id": "61e0f838",
   "metadata": {},
   "outputs": [],
   "source": [
    "for i in numList:\n",
    "    if df[i].isna().sum()==0:continue\n",
    "    FLAG = \"M_\"+i\n",
    "    IMP =\"IMP_\"+i\n",
    "    df[FLAG] = df[i].isna() + 0\n",
    "    df[IMP] = df[i]\n",
    "    df.loc[ df[IMP].isna(), IMP] = df[i].median()\n",
    "    df = df.drop (i, axis=1)\n",
    "\n",
    "for i in objList:\n",
    "    df = df.drop(i, axis=1)"
   ]
  },
  {
   "cell_type": "markdown",
   "id": "5cb38086",
   "metadata": {},
   "source": [
    "### Remove Outliers"
   ]
  },
  {
   "cell_type": "code",
   "execution_count": 9,
   "id": "82bf16bf",
   "metadata": {},
   "outputs": [
    {
     "name": "stdout",
     "output_type": "stream",
     "text": [
      "TARGET_BAD_FLAG int64\n",
      "TARGET_LOSS_AMT float64\n",
      "LOAN int64\n",
      "z_IMP_REASON_DebtCon int32\n",
      "z_IMP_REASON_HomeImp int32\n",
      "z_IMP_REASON_MISSING int32\n",
      "z_IMP_JOB_MISSING int32\n",
      "z_IMP_JOB_Mgr int32\n",
      "z_IMP_JOB_Office int32\n",
      "z_IMP_JOB_Other int32\n",
      "z_IMP_JOB_ProfExe int32\n",
      "z_IMP_JOB_Sales int32\n",
      "z_IMP_JOB_Self int32\n",
      "M_MORTDUE int32\n",
      "IMP_MORTDUE float64\n",
      "M_VALUE int32\n",
      "IMP_VALUE float64\n",
      "M_YOJ int32\n",
      "IMP_YOJ float64\n",
      "M_DEROG int32\n",
      "IMP_DEROG float64\n",
      "M_DELINQ int32\n",
      "IMP_DELINQ float64\n",
      "M_CLAGE int32\n",
      "IMP_CLAGE float64\n",
      "M_NINQ int32\n",
      "IMP_NINQ float64\n",
      "M_CLNO int32\n",
      "IMP_CLNO float64\n",
      "M_DEBTINC int32\n",
      "IMP_DEBTINC float64\n"
     ]
    }
   ],
   "source": [
    "dt = df.dtypes\n",
    "numList = []\n",
    "for i in dt.index :\n",
    "    print(i,dt[i])"
   ]
  },
  {
   "cell_type": "code",
   "execution_count": 10,
   "id": "52afdff8",
   "metadata": {},
   "outputs": [],
   "source": [
    "dt = df.dtypes\n",
    "numList = df.drop(columns=[TARGET_F, TARGET_A]).select_dtypes(include=[np.number]).columns.tolist()\n",
    "        \n",
    "for i in numList:\n",
    "    theMean = df[i].mean()\n",
    "    theSD = df[i].std()\n",
    "    theMax = df[i].max()\n",
    "    theCutoff = round(theMean +3*theSD)\n",
    "    if theMax < theCutoff : continue\n",
    "    FLAG = \"O_\" +i\n",
    "    TRUNC = \"TRUNC_\" +i\n",
    "    df[FLAG] = (df[i]> theCutoff) +0\n",
    "    df[TRUNC] = df[i]\n",
    "    df.loc[ df[TRUNC] > theCutoff, TRUNC] = theCutoff\n",
    "    df = df.drop(i, axis=1)"
   ]
  },
  {
   "cell_type": "markdown",
   "id": "413bb0d3",
   "metadata": {},
   "source": [
    "### Split Data \n",
    "x_train and y_train for training the model (80% of data), x_test and y_test for evaluating the model (20% of data)"
   ]
  },
  {
   "cell_type": "code",
   "execution_count": 11,
   "id": "9e050421",
   "metadata": {
    "scrolled": true
   },
   "outputs": [],
   "source": [
    "x = df.copy()\n",
    "x = x.drop (TARGET_F, axis=1)\n",
    "x = x.drop (TARGET_A, axis=1)\n",
    "\n",
    "y = df[ [TARGET_F, TARGET_A] ]\n",
    "x_train, x_test, y_train, y_test = train_test_split(x, y, train_size = 0.8, test_size = 0.2, random_state=1)"
   ]
  },
  {
   "cell_type": "code",
   "execution_count": 12,
   "id": "c4acd5ac",
   "metadata": {},
   "outputs": [],
   "source": [
    "F = y_train[TARGET_A].notna()\n",
    "w_train = x_train[F].copy()\n",
    "z_train = y_train[F].copy() \n",
    "\n",
    "F = y_test[TARGET_A].notna()\n",
    "w_test = x_test[F].copy()\n",
    "z_test = y_test[F].copy()\n",
    "\n",
    "w_train_capped = w_train.copy()\n",
    "z_train_capped = z_train.copy()\n",
    "w_test_capped = w_test.copy()\n",
    "z_test_capped = z_test.copy()\n",
    "\n",
    "# Winsorization: Cap all values in TARGET_LOSS_AMT greater than 25,000\n",
    "F = z_train_capped[TARGET_A] > 25000\n",
    "z_train_capped.loc[F, TARGET_A] = 25000\n",
    "\n",
    "F = z_test_capped[TARGET_A] > 25000\n",
    "z_test_capped.loc[F, TARGET_A] = 25000"
   ]
  },
  {
   "cell_type": "markdown",
   "id": "e1578e0e",
   "metadata": {},
   "source": [
    "### Model Accuracy Metrics"
   ]
  },
  {
   "cell_type": "code",
   "execution_count": 13,
   "id": "7d9e457f",
   "metadata": {},
   "outputs": [],
   "source": [
    "def getProbAccuracyScores( NAME, MODEL, x, y ) :\n",
    "    pred = MODEL.predict( x )\n",
    "    probs = MODEL.predict_proba( x )\n",
    "    acc_score = metrics.accuracy_score(y , pred)\n",
    "    p1 = probs[:,1]\n",
    "    fpr, tpr, threshold = metrics.roc_curve( y, p1)\n",
    "    auc = metrics.auc(fpr,tpr)\n",
    "    return [NAME, acc_score, fpr, tpr, auc]"
   ]
  },
  {
   "cell_type": "code",
   "execution_count": 14,
   "id": "131f1eee",
   "metadata": {},
   "outputs": [],
   "source": [
    "def print_ROC_Curve( TITLE, LIST ) :\n",
    "    fig = plt.figure(figsize=(6,4))\n",
    "    plt.title( TITLE )\n",
    "    for theResults in LIST :\n",
    "        NAME = theResults[0]\n",
    "        fpr = theResults[2]\n",
    "        tpr = theResults[3]\n",
    "        auc = theResults[4]\n",
    "        theLabel = \"AUC \" + NAME + ' %0.2f' % auc\n",
    "        plt.plot(fpr, tpr, label = theLabel )\n",
    "    plt.legend(loc = 'lower right')\n",
    "    plt.plot([0, 1], [0, 1],'r--')\n",
    "    plt.xlim([0, 1])\n",
    "    plt.ylim([0, 1])\n",
    "    plt.ylabel('True Positive Rate')\n",
    "    plt.xlabel('False Positive Rate')\n",
    "    plt.show()"
   ]
  },
  {
   "cell_type": "code",
   "execution_count": 15,
   "id": "976c0fce",
   "metadata": {},
   "outputs": [],
   "source": [
    "def print_Accuracy( TITLE, LIST ) :\n",
    "    print( TITLE )\n",
    "    print( \"======\" )\n",
    "    for theResults in LIST :\n",
    "        NAME = theResults[0]\n",
    "        ACC = theResults[1]\n",
    "        print( NAME, \" = \", ACC )"
   ]
  },
  {
   "cell_type": "code",
   "execution_count": 16,
   "id": "4ec7914e",
   "metadata": {},
   "outputs": [],
   "source": [
    "def getAmtAccuracyScores( NAME, MODEL, x, y ) :\n",
    "    pred = MODEL.predict( x )\n",
    "    MEAN = y.mean()\n",
    "    RMSE = math.sqrt( metrics.mean_squared_error( y, pred))\n",
    "    return [NAME, RMSE, MEAN]"
   ]
  },
  {
   "cell_type": "markdown",
   "id": "f34d406d",
   "metadata": {},
   "source": [
    "### Among models tested (Logistic Regression, Decision Tree, Random Forest, Gradient Boosting), Gradient Boosting consistently achieved the best balance,"
   ]
  },
  {
   "cell_type": "code",
   "execution_count": 29,
   "id": "056ccf55",
   "metadata": {
    "scrolled": true
   },
   "outputs": [
    {
     "name": "stdout",
     "output_type": "stream",
     "text": [
      "GB CLASSIFICATION ACCURACY\n",
      "======\n",
      "GB_Train  =  0.9249161073825504\n",
      "GB  =  0.9060402684563759\n"
     ]
    }
   ],
   "source": [
    "# GRADIENT BOOSTING: CLASSIFICATION MODEL \n",
    "\n",
    "WHO = \"GB\"\n",
    "# Fit a Gradient Boosting Classifier to predict default (classification)\n",
    "CLM = GradientBoostingClassifier( random_state=1 )\n",
    "CLM = CLM.fit( x_train, y_train[ TARGET_F ] )\n",
    "\n",
    "# Evaluate classification accuracy on both training and test sets\n",
    "TRAIN_CLM = getProbAccuracyScores( WHO + \"_Train\", CLM, x_train, y_train[ TARGET_F ] )\n",
    "TEST_CLM = getProbAccuracyScores( WHO, CLM, x_test, y_test[ TARGET_F ] )\n",
    "print_Accuracy( WHO + \" CLASSIFICATION ACCURACY\", [ TRAIN_CLM, TEST_CLM ] )"
   ]
  },
  {
   "cell_type": "markdown",
   "id": "ddc729e5",
   "metadata": {},
   "source": [
    "The Gradient Boosting Classifier achieved 92.5% accuracy on the training data and 90.6% accuracy on the test data.\n",
    "The small gap (about 2%) between training and test accuracy indicates low overfitting, suggesting the model generalizes well to unseen data."
   ]
  },
  {
   "cell_type": "code",
   "execution_count": 30,
   "id": "707b7e49",
   "metadata": {},
   "outputs": [
    {
     "name": "stdout",
     "output_type": "stream",
     "text": [
      "[('TRUNC_M_DEBTINC', 100), ('TRUNC_IMP_DEBTINC', 29), ('TRUNC_IMP_DELINQ', 16), ('TRUNC_IMP_CLAGE', 14), ('TRUNC_IMP_DEROG', 7), ('O_M_VALUE', 7), ('TRUNC_IMP_CLNO', 5), ('TRUNC_LOAN', 5), ('TRUNC_IMP_VALUE', 4)]\n"
     ]
    }
   ],
   "source": [
    "# Extract the list of variables used by the classifier (based on tree splits)\n",
    "feature_cols = list( x.columns.values )\n",
    "vars_GB_flag = getEnsembleTreeVars( CLM, feature_cols )\n",
    "print(vars_GB_flag)"
   ]
  },
  {
   "cell_type": "code",
   "execution_count": 31,
   "id": "8d24a8f7",
   "metadata": {
    "scrolled": true
   },
   "outputs": [
    {
     "name": "stdout",
     "output_type": "stream",
     "text": [
      "GB RMSE ACCURACY\n",
      "======\n",
      "GB_Train  =  1259.1776622939647\n",
      "GB  =  2551.176039811581\n",
      "('TRUNC_LOAN', 100)\n",
      "('TRUNC_IMP_CLNO', 14)\n",
      "('TRUNC_IMP_DEBTINC', 6)\n",
      "('TRUNC_M_DEBTINC', 5)\n",
      "('TRUNC_IMP_CLAGE', 4)\n"
     ]
    }
   ],
   "source": [
    "# GRADIENT BOOSTING: REGRESSION MODEL \n",
    "# Fit a Gradient Boosting Regressor to predict loss amount (regression)\n",
    "AMT = GradientBoostingRegressor(random_state=1)\n",
    "AMT = AMT.fit( w_train, z_train[TARGET_A] )\n",
    "\n",
    "# Evaluate RMSE on both training and test sets\n",
    "TRAIN_AMT = getAmtAccuracyScores( WHO + \"_Train\", AMT, w_train, z_train[TARGET_A] )\n",
    "TEST_AMT = getAmtAccuracyScores( WHO, AMT, w_test, z_test[TARGET_A] )\n",
    "print_Accuracy( WHO + \" RMSE ACCURACY\", [ TRAIN_AMT, TEST_AMT ] )\n",
    "\n",
    "# Extract the list of variables used by the regressor\n",
    "feature_cols = list( x.columns.values )\n",
    "vars_GB_amt = getEnsembleTreeVars( AMT, feature_cols )\n",
    "for i in vars_GB_amt :\n",
    " print( i )\n",
    "\n",
    "GB_CLM = TEST_CLM.copy()\n",
    "GB_AMT = TEST_AMT.copy()"
   ]
  },
  {
   "cell_type": "markdown",
   "id": "80e1b178",
   "metadata": {},
   "source": [
    "TRUNC_LOAN is by far the most important predictor of loss amount, contributing the majority of the model's decision power."
   ]
  },
  {
   "cell_type": "markdown",
   "id": "4e680da4",
   "metadata": {},
   "source": [
    "## Regression Task: Predicting Loss Given Default (LGD)\n",
    "\n",
    "After predicting whether a borrower will default, the next step is to\n",
    "estimate the **expected financial loss** when default occurs."
   ]
  },
  {
   "cell_type": "code",
   "execution_count": 32,
   "id": "4d32dd3c",
   "metadata": {},
   "outputs": [],
   "source": [
    "def getCoefLogit( MODEL, TRAIN_DATA ) :\n",
    "    varNames = list( TRAIN_DATA.columns.values )\n",
    "    coef_dict = {}\n",
    "    coef_dict[\"INTERCEPT\"] = MODEL.intercept_[0]\n",
    "    for coef, feat in zip(MODEL.coef_[0],varNames):\n",
    "        coef_dict[feat] = coef\n",
    "    print(\"\\nDEFAULTED PROBABILITY\")\n",
    "    print(\"---------\")\n",
    "    print(\"Total Variables: \", len( coef_dict ) )\n",
    "    for i in coef_dict :\n",
    "        print( i, \" = \", coef_dict[i]  )\n",
    "\n",
    "\n",
    "\n",
    "def getCoefLinear( MODEL, TRAIN_DATA ) :\n",
    "    varNames = list( TRAIN_DATA.columns.values )\n",
    "    coef_dict = {}\n",
    "    coef_dict[\"INTERCEPT\"] = MODEL.intercept_\n",
    "    for coef, feat in zip(MODEL.coef_,varNames):\n",
    "        coef_dict[feat] = coef\n",
    "    print(\"\\nAMOUNT NOT REPAID\")\n",
    "    print(\"---------\")\n",
    "    print(\"Total Variables: \", len( coef_dict ) )\n",
    "    for i in coef_dict :\n",
    "        print( i, \" = \", coef_dict[i]  )\n"
   ]
  },
  {
   "cell_type": "markdown",
   "id": "907878e2",
   "metadata": {},
   "source": [
    "### Logistic & Linear Regression using All Variables"
   ]
  },
  {
   "cell_type": "markdown",
   "id": "f9cd8943",
   "metadata": {},
   "source": [
    "#### Logistic Regression: Predict Loan Default (TARGET_F)"
   ]
  },
  {
   "cell_type": "code",
   "execution_count": 33,
   "id": "3f0c6987",
   "metadata": {
    "scrolled": true
   },
   "outputs": [
    {
     "name": "stderr",
     "output_type": "stream",
     "text": [
      "C:\\Users\\user\\anaconda3\\Lib\\site-packages\\scipy\\optimize\\_linesearch.py:312: LineSearchWarning: The line search algorithm did not converge\n",
      "  alpha_star, phi_star, old_fval, derphi_star = scalar_search_wolfe2(\n",
      "C:\\Users\\user\\anaconda3\\Lib\\site-packages\\sklearn\\utils\\optimize.py:100: LineSearchWarning: The line search algorithm did not converge\n",
      "  ret = line_search_wolfe2(\n"
     ]
    },
    {
     "data": {
      "image/png": "[encoded data removed]",
      "text/plain": [
       "<Figure size 600x400 with 1 Axes>"
      ]
     },
     "metadata": {},
     "output_type": "display_data"
    },
    {
     "name": "stdout",
     "output_type": "stream",
     "text": [
      "REG_ALL CLASSIFICATION ACCURACY\n",
      "======\n",
      "REG_ALL_Train  =  0.8936661073825504\n",
      "REG_ALL  =  0.886744966442953\n"
     ]
    }
   ],
   "source": [
    "WHO = \"REG_ALL\"\n",
    "\n",
    "# Fit logistic regression using all predictors to model default probability\n",
    "CLM = LogisticRegression( solver='newton-cg', max_iter=1000)\n",
    "CLM = CLM.fit(x_train, y_train[TARGET_F])\n",
    "\n",
    "# Evaluate classification performance on training and test sets\n",
    "TRAIN_CLM = getProbAccuracyScores(WHO + \"_Train\", CLM, x_train, y_train[TARGET_F])\n",
    "TEST_CLM = getProbAccuracyScores(WHO, CLM, x_test, y_test[TARGET_F])\n",
    "\n",
    "# Plot ROC curves and print classification accuracy\n",
    "print_ROC_Curve(WHO, [TRAIN_CLM, TEST_CLM])\n",
    "print_Accuracy(WHO + \" CLASSIFICATION ACCURACY\", [TRAIN_CLM, TEST_CLM])"
   ]
  },
  {
   "cell_type": "markdown",
   "id": "cb9e077f",
   "metadata": {},
   "source": [
    "The REG_ALL logistic regression model shows strong performance, with high AUC (0.90) and balanced accuracy across training and test sets, indicating good generalization and no major overfitting."
   ]
  },
  {
   "cell_type": "markdown",
   "id": "196edaf6",
   "metadata": {},
   "source": [
    "#### Linear Regression: Predict Expected Loss Amount (TARGET_A)"
   ]
  },
  {
   "cell_type": "code",
   "execution_count": 34,
   "id": "b8217fed",
   "metadata": {
    "scrolled": true
   },
   "outputs": [
    {
     "name": "stdout",
     "output_type": "stream",
     "text": [
      "REG_ALL RMSE ACCURACY\n",
      "======\n",
      "REG_ALL_Train  =  3555.90846939125\n",
      "REG_ALL  =  3615.1006386595836\n"
     ]
    }
   ],
   "source": [
    "# Fit linear regression using all predictors to model expected loss amount\n",
    "AMT = LinearRegression()\n",
    "AMT = AMT.fit(w_train, z_train[TARGET_A])\n",
    "\n",
    "# Evaluate regression performance (RMSE) on training and test sets\n",
    "TRAIN_AMT = getAmtAccuracyScores(WHO + \"_Train\", AMT, w_train, z_train[TARGET_A])\n",
    "TEST_AMT = getAmtAccuracyScores(WHO, AMT, w_test, z_test[TARGET_A])\n",
    "print_Accuracy(WHO + \" RMSE ACCURACY\", [TRAIN_AMT, TEST_AMT])"
   ]
  },
  {
   "cell_type": "markdown",
   "id": "5b913659",
   "metadata": {},
   "source": [
    "The REG_ALL linear regression model demonstrates stable performance with a testing RMSE of $3,615, or roughly 14% of the capped loss amount. It's an acceptable level of error, i.e. below the range generally considered low performing (+30%)."
   ]
  },
  {
   "cell_type": "markdown",
   "id": "cfc2f4cb",
   "metadata": {},
   "source": [
    "#### Extract Coefficients"
   ]
  },
  {
   "cell_type": "code",
   "execution_count": 35,
   "id": "5d772215",
   "metadata": {},
   "outputs": [
    {
     "name": "stdout",
     "output_type": "stream",
     "text": [
      "\n",
      "DEFAULTED PROBABILITY\n",
      "---------\n",
      "Total Variables:  56\n",
      "INTERCEPT  =  -4.269221761839848\n",
      "z_IMP_REASON_DebtCon  =  -0.14849270934835318\n",
      "z_IMP_REASON_HomeImp  =  0.03018959975540616\n",
      "z_IMP_JOB_Other  =  0.15294641734567763\n",
      "O_LOAN  =  -0.1567820561277291\n",
      "TRUNC_LOAN  =  -2.32428369187965e-06\n",
      "O_z_IMP_REASON_MISSING  =  0.0\n",
      "TRUNC_z_IMP_REASON_MISSING  =  -0.14699669474393692\n",
      "O_z_IMP_JOB_MISSING  =  0.0\n",
      "TRUNC_z_IMP_JOB_MISSING  =  -1.4405542318568945\n",
      "O_z_IMP_JOB_Mgr  =  0.0\n",
      "TRUNC_z_IMP_JOB_Mgr  =  0.112705101305807\n",
      "O_z_IMP_JOB_Office  =  0.0\n",
      "TRUNC_z_IMP_JOB_Office  =  -0.5133731356730967\n",
      "O_z_IMP_JOB_ProfExe  =  0.0\n",
      "TRUNC_z_IMP_JOB_ProfExe  =  -0.12738961892003356\n",
      "O_z_IMP_JOB_Sales  =  1.2677493086026237\n",
      "TRUNC_z_IMP_JOB_Sales  =  0.0\n",
      "O_z_IMP_JOB_Self  =  0.0\n",
      "TRUNC_z_IMP_JOB_Self  =  0.2826163548590523\n",
      "O_M_MORTDUE  =  0.0\n",
      "TRUNC_M_MORTDUE  =  0.18772571906390087\n",
      "O_IMP_MORTDUE  =  -0.12201075169930752\n",
      "TRUNC_IMP_MORTDUE  =  -1.24951455653291e-06\n",
      "O_M_VALUE  =  3.810819239207894\n",
      "TRUNC_M_VALUE  =  0.0\n",
      "O_IMP_VALUE  =  1.0177992464119718\n",
      "TRUNC_IMP_VALUE  =  2.808676931615966e-07\n",
      "O_M_YOJ  =  0.0\n",
      "TRUNC_M_YOJ  =  -0.5903203654128482\n",
      "O_IMP_YOJ  =  0.689208176667529\n",
      "TRUNC_IMP_YOJ  =  -0.015913786747454087\n",
      "O_M_DEROG  =  0.0\n",
      "TRUNC_M_DEROG  =  -1.7493549875133265\n",
      "O_IMP_DEROG  =  0.5455057511190144\n",
      "TRUNC_IMP_DEROG  =  0.576864896998175\n",
      "O_M_DELINQ  =  0.0\n",
      "TRUNC_M_DELINQ  =  -0.19439196261162248\n",
      "O_IMP_DELINQ  =  1.846516468366994\n",
      "TRUNC_IMP_DELINQ  =  0.7490852201440981\n",
      "O_M_CLAGE  =  0.0\n",
      "TRUNC_M_CLAGE  =  1.086227652192593\n",
      "O_IMP_CLAGE  =  0.7691963769477894\n",
      "TRUNC_IMP_CLAGE  =  -0.006309960158034943\n",
      "O_M_NINQ  =  0.0\n",
      "TRUNC_M_NINQ  =  -0.16729153870823982\n",
      "O_IMP_NINQ  =  -0.1452981000570272\n",
      "TRUNC_IMP_NINQ  =  0.17399316201532536\n",
      "O_M_CLNO  =  0.0\n",
      "TRUNC_M_CLNO  =  2.229203737556595\n",
      "O_IMP_CLNO  =  0.8372903365620129\n",
      "TRUNC_IMP_CLNO  =  -0.01468886055413746\n",
      "O_M_DEBTINC  =  0.0\n",
      "TRUNC_M_DEBTINC  =  2.64056692455059\n",
      "O_IMP_DEBTINC  =  2.7120044361012443\n",
      "TRUNC_IMP_DEBTINC  =  0.08066935387984597\n",
      "\n",
      "AMOUNT NOT REPAID\n",
      "---------\n",
      "Total Variables:  56\n",
      "INTERCEPT  =  -13569.549847343387\n",
      "z_IMP_REASON_DebtCon  =  1134.6962719279245\n",
      "z_IMP_REASON_HomeImp  =  -577.6996644667121\n",
      "z_IMP_JOB_Other  =  -553.1277829564033\n",
      "O_LOAN  =  12427.28859343521\n",
      "TRUNC_LOAN  =  0.7613654486199266\n",
      "O_z_IMP_REASON_MISSING  =  -3.717559593496844e-11\n",
      "TRUNC_z_IMP_REASON_MISSING  =  -556.9966075819791\n",
      "O_z_IMP_JOB_MISSING  =  4.490630090003833e-12\n",
      "TRUNC_z_IMP_JOB_MISSING  =  966.5967801524941\n",
      "O_z_IMP_JOB_Mgr  =  -5.258016244624741e-13\n",
      "TRUNC_z_IMP_JOB_Mgr  =  -1125.5236672000726\n",
      "O_z_IMP_JOB_Office  =  4.387601393318619e-12\n",
      "TRUNC_z_IMP_JOB_Office  =  -598.6914185560606\n",
      "O_z_IMP_JOB_ProfExe  =  -2.7284841053187847e-12\n",
      "TRUNC_z_IMP_JOB_ProfExe  =  -659.5891002725111\n",
      "O_z_IMP_JOB_Sales  =  1072.8559083591754\n",
      "TRUNC_z_IMP_JOB_Sales  =  2.2737367544323206e-12\n",
      "O_z_IMP_JOB_Self  =  -6.366462912410498e-12\n",
      "TRUNC_z_IMP_JOB_Self  =  897.479280545813\n",
      "O_M_MORTDUE  =  -1.3642420526593924e-12\n",
      "TRUNC_M_MORTDUE  =  -156.1452602651798\n",
      "O_IMP_MORTDUE  =  2884.4723745131223\n",
      "TRUNC_IMP_MORTDUE  =  -0.0008885471775101905\n",
      "O_M_VALUE  =  129.59426794788988\n",
      "TRUNC_M_VALUE  =  2.7284841053187847e-12\n",
      "O_IMP_VALUE  =  -7070.332846561174\n",
      "TRUNC_IMP_VALUE  =  0.0042992824253360595\n",
      "O_M_YOJ  =  4.547473508864641e-13\n",
      "TRUNC_M_YOJ  =  -65.2658723235154\n",
      "O_IMP_YOJ  =  -8593.008058587973\n",
      "TRUNC_IMP_YOJ  =  -66.50754218861675\n",
      "O_M_DEROG  =  2.7284841053187847e-12\n",
      "TRUNC_M_DEROG  =  1104.2374707230033\n",
      "O_IMP_DEROG  =  1113.9106168896794\n",
      "TRUNC_IMP_DEROG  =  194.04823037695724\n",
      "O_M_DELINQ  =  2.2737367544323206e-13\n",
      "TRUNC_M_DELINQ  =  960.4015084279009\n",
      "O_IMP_DELINQ  =  1325.4527886704514\n",
      "TRUNC_IMP_DELINQ  =  937.5935471631803\n",
      "O_M_CLAGE  =  0.0\n",
      "TRUNC_M_CLAGE  =  -4968.102465772561\n",
      "O_IMP_CLAGE  =  -193.3365009958413\n",
      "TRUNC_IMP_CLAGE  =  -24.366665149957484\n",
      "O_M_NINQ  =  0.0\n",
      "TRUNC_M_NINQ  =  -1524.4844234478373\n",
      "O_IMP_NINQ  =  -116.39444389029603\n",
      "TRUNC_IMP_NINQ  =  -81.58989455242906\n",
      "O_M_CLNO  =  0.0\n",
      "TRUNC_M_CLNO  =  6452.216061043701\n",
      "O_IMP_CLNO  =  -147.94140644302502\n",
      "TRUNC_IMP_CLNO  =  228.0715424639438\n",
      "O_M_DEBTINC  =  0.0\n",
      "TRUNC_M_DEBTINC  =  5613.384388199788\n",
      "O_IMP_DEBTINC  =  -1558.0295589779266\n",
      "TRUNC_IMP_DEBTINC  =  236.74703613098507\n"
     ]
    }
   ],
   "source": [
    "varNames = list(x_train.columns.values)\n",
    "REG_ALL_CLM_COEF = getCoefLogit(CLM, x_train)\n",
    "REG_ALL_AMT_COEF = getCoefLinear(AMT, w_train)\n",
    "\n",
    "# Save test evaluation results\n",
    "REG_ALL_CLM = TEST_CLM.copy()\n",
    "REG_ALL_AMT = TEST_AMT.copy()"
   ]
  },
  {
   "cell_type": "markdown",
   "id": "c70244d1",
   "metadata": {},
   "source": [
    "The variables included in the logistic regression model generally make sense and align with known financial indicators of default risk. For example, a higher debt-to-income ratio (DEBTINC) suggests that a borrower carries a larger financial burden, and therefore has a higher likelihood of default. This is reflected in the model by a positive coefficient, indicating a higher probability of default as the debt burden rises.\n",
    "\n",
    "Similarly, borrowers with more delinquencies (DELINQ) on their credit record are statistically more likely to default again, so it is appropriate that this variable also has a positive coefficient.\n",
    "\n",
    "On the other hand, variables like years on the job (YOJ) or credit age (CLAGE) are indicators of financial stability and credit experience. Borrowers with longer job tenure or a more extended credit history are typically more reliable, which reduces the risk of default. In the model, these variables tend to have negative coefficients, meaning an increase in these values corresponds to a lower probability of default.\n",
    "\n",
    "In addition, categorical variables such as loan purpose (REASON) and job category (JOB), which are one-hot encoded into dummy variables (e.g., z_IMP_REASON_DebtCon, z_IMP_JOB_Sales), also appear in the model. This inclusion makes sense, as different types of loans (e.g., debt consolidation vs. home improvement) and job types can significantly influence a borrower’s risk profile."
   ]
  },
  {
   "cell_type": "markdown",
   "id": "6bc08ecd",
   "metadata": {},
   "source": [
    "## Predicting Loan Default and Loss Given Default with TensorFlow Neural Networks"
   ]
  },
  {
   "cell_type": "code",
   "execution_count": 45,
   "id": "3a922c80",
   "metadata": {
    "scrolled": true
   },
   "outputs": [
    {
     "name": "stdout",
     "output_type": "stream",
     "text": [
      "WARNING:tensorflow:From C:\\Users\\user\\anaconda3\\Lib\\site-packages\\keras\\src\\losses.py:2976: The name tf.losses.sparse_softmax_cross_entropy is deprecated. Please use tf.compat.v1.losses.sparse_softmax_cross_entropy instead.\n",
      "\n"
     ]
    }
   ],
   "source": [
    "import tensorflow as tf\n",
    "from sklearn.preprocessing import MinMaxScaler\n",
    "import random"
   ]
  },
  {
   "cell_type": "markdown",
   "id": "76f93c4a",
   "metadata": {},
   "source": [
    "#### Initialize Scaler and Define TF Model Evaluation Metrics"
   ]
  },
  {
   "cell_type": "code",
   "execution_count": 46,
   "id": "a8dc5c5f",
   "metadata": {},
   "outputs": [],
   "source": [
    "# Initialize a MinMaxScaler to scale features between 0 and 1\n",
    "theScaler = MinMaxScaler()\n",
    "# Fit the scaler using the training dataset\n",
    "theScaler.fit(x_train)\n",
    "\n",
    "# Define a function to calculate classification accuracy and AUC for a TensorFlow model\n",
    "def get_TF_ProbAccuracyScores (NAME, MODEL, x, y):\n",
    "    probs = MODEL. predict(x)\n",
    "    pred_list = []\n",
    "    for p in probs :\n",
    "        pred_list.append(np.argmax(p))\n",
    "    pred = np.array(pred_list)\n",
    "    acc_score = metrics.accuracy_score(y, pred)\n",
    "    p1 = probs[:, 1]\n",
    "    # Compute False Positive Rate (fpr), True Positive Rate (tpr), and thresholds for the ROC curve\n",
    "    fpr, tpr, threshold = metrics.roc_curve (y, p1)\n",
    "    auc = metrics.auc(fpr, tpr)\n",
    "    # Return model name, accuracy, and ROC curve data\n",
    "    return [NAME, acc_score, fpr, tpr, auc]"
   ]
  },
  {
   "cell_type": "markdown",
   "id": "daf0963c",
   "metadata": {},
   "source": [
    "### Loan Default – TensorFlow Models (with GB Selected Features)"
   ]
  },
  {
   "cell_type": "code",
   "execution_count": 47,
   "id": "767bdc28",
   "metadata": {},
   "outputs": [],
   "source": [
    "WHO = \"Tensor_Flow\" \n",
    "\n",
    "# Scale training and test features to the range [0, 1] using the fitted scaler\n",
    "u_train = theScaler.transform(x_train)\n",
    "u_test = theScaler.transform(x_test)\n",
    "\n",
    "u_train = pd.DataFrame(u_train)\n",
    "u_test = pd.DataFrame(u_test)\n",
    "\n",
    "u_train.columns = list(x_train.columns.values)\n",
    "u_test.columns = list(x_train.columns.values)\n",
    "\n",
    "# Select only the features chosen by the Gradient Boosting variable selection method\n",
    "u_train = u_train[GB_flag]\n",
    "u_test = u_test[GB_flag]"
   ]
  },
  {
   "cell_type": "markdown",
   "id": "fb20e150",
   "metadata": {},
   "source": [
    "#### ReLU – 2 Hidden Layers"
   ]
  },
  {
   "cell_type": "code",
   "execution_count": 49,
   "id": "ac333385",
   "metadata": {},
   "outputs": [
    {
     "name": "stdout",
     "output_type": "stream",
     "text": [
      "149/149 [==============================] - 0s 2ms/step\n",
      "38/38 [==============================] - 0s 2ms/step\n"
     ]
    },
    {
     "data": {
      "image/png": "[encoded data removed]",
      "text/plain": [
       "<Figure size 600x400 with 1 Axes>"
      ]
     },
     "metadata": {},
     "output_type": "display_data"
    },
    {
     "name": "stdout",
     "output_type": "stream",
     "text": [
      "TF[relu|2L] CLASSIFICATION ACCURACY\n",
      "======\n",
      "TF[relu|2L]_Train  =  0.8838087248322147\n",
      "TF[relu|2L]  =  0.8716442953020134\n"
     ]
    }
   ],
   "source": [
    "tf.keras.backend.clear_session()\n",
    "\n",
    "WHO = \"TF[relu|2L]\"\n",
    "\n",
    "F_theShapeSize = u_train.shape[1]\n",
    "F_theActivation = tf.keras.activations.relu\n",
    "F_theLossMetric = tf.keras.losses.SparseCategoricalCrossentropy()\n",
    "F_theOptimizer = tf.keras.optimizers.Adam()\n",
    "F_theEpochs = 100\n",
    "\n",
    "F_theUnits = int(2 * F_theShapeSize / 3)\n",
    "F_LAYER_01 = tf.keras.layers.Dense(units=F_theUnits, activation=F_theActivation, input_dim=F_theShapeSize)\n",
    "F_LAYER_DROP = tf.keras.layers.Dropout(0.2)\n",
    "F_LAYER_02 = tf.keras.layers.Dense(units=F_theUnits, activation=F_theActivation)\n",
    "F_LAYER_OUTPUT = tf.keras.layers.Dense(units=2, activation=tf.keras.activations.softmax)\n",
    "\n",
    "CLM = tf.keras.Sequential()\n",
    "CLM.add(F_LAYER_01)\n",
    "CLM.add(F_LAYER_DROP)\n",
    "CLM.add(F_LAYER_02)   # included for 2-layer version\n",
    "CLM.add(F_LAYER_OUTPUT)\n",
    "CLM.compile(loss=F_theLossMetric, optimizer=F_theOptimizer)\n",
    "CLM.fit(u_train, y_train[TARGET_F], epochs=F_theEpochs, verbose=False)\n",
    "\n",
    "TRAIN_CLM = get_TF_ProbAccuracyScores(WHO + \"_Train\", CLM, u_train, y_train[TARGET_F])\n",
    "TEST_CLM  = get_TF_ProbAccuracyScores(WHO, CLM, u_test, y_test[TARGET_F])\n",
    "print_ROC_Curve(WHO, [TRAIN_CLM, TEST_CLM])\n",
    "print_Accuracy(WHO + \" CLASSIFICATION ACCURACY\", [TRAIN_CLM, TEST_CLM])\n",
    "\n",
    "TF_CLM_relu2L_train = TRAIN_CLM.copy()\n",
    "TF_CLM_relu2L = TEST_CLM.copy()"
   ]
  },
  {
   "cell_type": "code",
   "execution_count": 54,
   "id": "6bdc425c",
   "metadata": {
    "scrolled": true
   },
   "outputs": [
    {
     "data": {
      "image/png": "[encoded data removed]",
      "text/plain": [
       "<Figure size 600x400 with 1 Axes>"
      ]
     },
     "metadata": {},
     "output_type": "display_data"
    }
   ],
   "source": [
    "ALL_TF_TEST = [\n",
    "    TF_CLM_relu1L, TF_CLM_relu2L,\n",
    "    TF_CLM_tanh1L, TF_CLM_tanh2L,\n",
    "    TF_CLM_sigmoid1L, TF_CLM_sigmoid2L\n",
    "]\n",
    "print_ROC_Curve(\"TF TEST ROC (relu/tanh/sigmoid × 1L/2L)\", ALL_TF_TEST)"
   ]
  },
  {
   "cell_type": "markdown",
   "id": "5955142d",
   "metadata": {},
   "source": [
    "#### Process\n",
    "Tested six TensorFlow neural network configurations for loan default classification: \n",
    "three activation functions (ReLU, Tanh, Sigmoid) × one or two hidden layers. \n",
    "All models were trained with the same data split, Adam optimizer, and training epochs.\n",
    "\n",
    "#### Results\n",
    "- Test AUC across all six models: **0.88–0.89**.  \n",
    "- Best: **ReLU with two hidden layers (AUC = 0.89)**, but only marginally better than others.  \n",
    "- Compared to ensemble methods, Gradient Boosting achieved slightly higher AUC (≈ 0.90).  \n",
    "\n",
    "#### Conclusion\n",
    "Neural networks provided solid predictive power, but performance differences across \n",
    "activations and depth were negligible. On this dataset, **model choice mattered less than \n",
    "feature quality**, and tree ensembles slightly outperformed neural networks. "
   ]
  },
  {
   "cell_type": "markdown",
   "id": "fd4b6098",
   "metadata": {},
   "source": [
    "### Loss Given Default – TensorFlow Regression (with GB Selected Features)"
   ]
  },
  {
   "cell_type": "code",
   "execution_count": 55,
   "id": "362bba4c",
   "metadata": {},
   "outputs": [],
   "source": [
    "# Scale training and test features to the range [0, 1] using the pre-fitted MinMaxScaler\n",
    "v_train = theScaler.transform(w_train)\n",
    "v_test = theScaler.transform(w_test)\n",
    "\n",
    "v_train = pd.DataFrame(v_train)\n",
    "v_test = pd.DataFrame(v_test)\n",
    "\n",
    "v_train.columns = list(w_train.columns.values)\n",
    "v_test.columns = list(w_train.columns.values)\n",
    "\n",
    "# Select only the features chosen by the Gradient Boosting variable selection method\n",
    "v_train = v_train[GB_amt]\n",
    "v_test = v_test[GB_amt]"
   ]
  },
  {
   "cell_type": "markdown",
   "id": "8d794b57",
   "metadata": {},
   "source": [
    "#### ReLU – 1 Hidden Layer"
   ]
  },
  {
   "cell_type": "code",
   "execution_count": 68,
   "id": "6bf39abc",
   "metadata": {
    "scrolled": true
   },
   "outputs": [
    {
     "name": "stdout",
     "output_type": "stream",
     "text": [
      "30/30 [==============================] - 0s 1ms/step\n",
      "8/8 [==============================] - 0s 3ms/step\n",
      "TF_REG[relu|1L] RMSE ACCURACY\n",
      "======\n",
      "TF_REG[relu|1L]_Train  =  10136.888080985882\n",
      "TF_REG[relu|1L]  =  10979.576415813573\n"
     ]
    }
   ],
   "source": [
    "tf.keras.backend.clear_session()\n",
    "\n",
    "WHO = \"TF_REG[relu|1L]\" \n",
    "\n",
    "# Define model parameters\n",
    "A_theShapeSize = v_train.shape[1]\n",
    "A_theActivation = tf.keras.activations.relu\n",
    "A_theLossMetric = tf.keras.losses.MeanSquaredError()\n",
    "A_theOptimizer = tf.keras.optimizers.Adam()\n",
    "A_theEpochs = 800\n",
    "\n",
    "# number of hidden units\n",
    "A_theUnits = int(2 * A_theShapeSize)\n",
    "\n",
    "# Define model architecture (1 hidden layer version)\n",
    "A_LAYER_01 = tf.keras.layers.Dense(units=A_theUnits, activation=A_theActivation, input_dim=A_theShapeSize)\n",
    "A_LAYER_DROP = tf.keras.layers.Dropout(0.2)\n",
    "# A_LAYER_02 = tf.keras.layers.Dense(units=A_theUnits, activation=A_theActivation)  # commented for 1L\n",
    "A_LAYER_OUTPUT = tf.keras.layers.Dense(units=1, activation=tf.keras.activations.linear)  # linear output for regression\n",
    "\n",
    "# Build and compile the model\n",
    "AMT = tf.keras.Sequential()\n",
    "AMT.add(A_LAYER_01)\n",
    "AMT.add(A_LAYER_DROP)\n",
    "# AMT.add(A_LAYER_02)  # not used in 1-layer version\n",
    "AMT.add(A_LAYER_OUTPUT)\n",
    "AMT.compile(loss=A_theLossMetric, optimizer=A_theOptimizer)\n",
    "\n",
    "AMT.fit(v_train, z_train[TARGET_A], epochs=A_theEpochs, verbose=False)\n",
    "\n",
    "TRAIN_AMT = getAmtAccuracyScores(WHO + \"_Train\", AMT, v_train[GB_amt], z_train[TARGET_A])\n",
    "TEST_AMT  = getAmtAccuracyScores(WHO, AMT, v_test[GB_amt],  z_test[TARGET_A])\n",
    "print_Accuracy(WHO + \" RMSE ACCURACY\", [TRAIN_AMT, TEST_AMT])\n",
    "\n",
    "TF_AMT_relu1L_train = TRAIN_AMT.copy()\n",
    "TF_AMT_relu1L_test  = TEST_AMT.copy()\n"
   ]
  },
  {
   "cell_type": "markdown",
   "id": "f8c88b01",
   "metadata": {},
   "source": [
    "#### ReLU – 2 Hidden Layers (units = 2×features)"
   ]
  },
  {
   "cell_type": "code",
   "execution_count": 71,
   "id": "2dc3e4b7",
   "metadata": {},
   "outputs": [
    {
     "name": "stdout",
     "output_type": "stream",
     "text": [
      "30/30 [==============================] - 0s 2ms/step\n",
      "8/8 [==============================] - 0s 3ms/step\n",
      "TF_REG[relu|2L] RMSE ACCURACY\n",
      "======\n",
      "TF_REG[relu|2L]_Train  =  4334.354254722459\n",
      "TF_REG[relu|2L]  =  4910.2538966775055\n"
     ]
    }
   ],
   "source": [
    "tf.keras.backend.clear_session()\n",
    "\n",
    "WHO = \"TF_REG[relu|2L]\"\n",
    "\n",
    "A_theShapeSize = v_train.shape[1]\n",
    "A_theActivation = tf.keras.activations.relu\n",
    "A_theLossMetric = tf.keras.losses.MeanSquaredError()\n",
    "A_theOptimizer = tf.keras.optimizers.Adam()\n",
    "A_theEpochs = 800\n",
    "\n",
    "A_theUnits = int(2 * A_theShapeSize)\n",
    "A_LAYER_01 = tf.keras.layers.Dense(units=A_theUnits, activation=A_theActivation, input_dim=A_theShapeSize)\n",
    "A_LAYER_DROP = tf.keras.layers.Dropout(0.2)\n",
    "A_LAYER_02 = tf.keras.layers.Dense(units=A_theUnits, activation=A_theActivation)\n",
    "A_LAYER_OUTPUT = tf.keras.layers.Dense(units=1, activation=tf.keras.activations.linear)\n",
    "\n",
    "AMT = tf.keras.Sequential()\n",
    "AMT.add(A_LAYER_01)\n",
    "AMT.add(A_LAYER_DROP)\n",
    "AMT.add(A_LAYER_02)  # included for 2-layer version\n",
    "AMT.add(A_LAYER_OUTPUT)\n",
    "AMT.compile(loss=A_theLossMetric, optimizer=A_theOptimizer)\n",
    "\n",
    "AMT.fit(v_train, z_train[TARGET_A], epochs=A_theEpochs, verbose=False)\n",
    "\n",
    "TRAIN_AMT = getAmtAccuracyScores(WHO + \"_Train\", AMT, v_train[GB_amt], z_train[TARGET_A])\n",
    "TEST_AMT  = getAmtAccuracyScores(WHO, AMT, v_test[GB_amt],  z_test[TARGET_A])\n",
    "print_Accuracy(WHO + \" RMSE ACCURACY\", [TRAIN_AMT, TEST_AMT])\n",
    "\n",
    "TF_AMT_relu2L_train = TRAIN_AMT.copy()\n",
    "TF_AMT_relu2L_test  = TEST_AMT.copy()\n"
   ]
  },
  {
   "cell_type": "markdown",
   "id": "3a964a5b",
   "metadata": {},
   "source": [
    "#### Summary Table\n",
    "| Model Variant | Test RMSE |\n",
    "|---------------|-----------|\n",
    "| ReLU – 2L     | **5,037** |\n",
    "| ReLU – 1L     | 12,767    |\n",
    "| Tanh/Sigmoid  | ~17,400   |\n"
   ]
  },
  {
   "cell_type": "markdown",
   "id": "744108de",
   "metadata": {},
   "source": [
    "#### Loss Given Default – TensorFlow Regression\n",
    "\n",
    "- Tested multiple NN variants (ReLU, Tanh, Sigmoid × 1/2 hidden layers).  \n",
    "- **Best NN:** ReLU with 2 hidden layers → Test RMSE ≈ 5,037  \n",
    "- **Baseline NN:** ReLU with 1 hidden layer → Test RMSE ≈ 12,767  \n",
    "- Tanh and Sigmoid models failed to converge (Test RMSE ≈ 17k).  \n",
    "- Compared to Gradient Boosting (Test RMSE ≈ 2,551), tree ensembles remained superior."
   ]
  },
  {
   "cell_type": "markdown",
   "id": "0915015d",
   "metadata": {},
   "source": [
    "| Model               | Test RMSE                    |\n",
    "| ------------------- | ---------------------------- |\n",
    "| ReLU – 1L           | \\~10.6k                      |\n",
    "| ReLU – 2L           | \\~4.8k                       |\n",
    "| ReLU – 2L (4×units) | \\~4.6k                       |\n",
    "| Tanh/Sigmoid        | \\~17.4k (failed to converge) |\n"
   ]
  },
  {
   "cell_type": "markdown",
   "id": "709a7364",
   "metadata": {},
   "source": [
    "ReLU networks achieved the best performance, with two hidden layers reducing RMSE to 4.8k. Expanding hidden units further lowered error to 4.6k. In contrast, Tanh and Sigmoid consistently failed (~17.4k)."
   ]
  },
  {
   "cell_type": "markdown",
   "id": "15988e1d",
   "metadata": {},
   "source": [
    "## Conclusion & Key Takeaways\n",
    "\n",
    "- **Default Prediction (Classification):**\n",
    "  - Logistic Regression baseline achieved Test AUC ≈ 0.88.\n",
    "  - Gradient Boosting delivered the best overall performance with **AUC ≈ 0.90**, slightly higher than Random Forest and Neural Networks.\n",
    "  - Key risk drivers identified included **Debt-to-Income ratio (DEBTINC)**, **Delinquency history (DELINQ)**, and **Derogatory reports (DEROG)**.\n",
    "\n",
    "- **Loss Given Default (Regression):**\n",
    "  - Linear Regression baseline had Test RMSE ≈ 3.6k.\n",
    "  - Gradient Boosting Regressor significantly reduced error to **≈ 2.5k (≈13% of capped loss)**, outperforming both Random Forest and Neural Networks.\n",
    "  - Neural Networks with ReLU activation achieved RMSE ≈ 4.6k, but underperformed compared to tree ensembles.\n",
    "\n",
    "- **Overall Insights:**\n",
    "  - Ensemble tree methods (especially Gradient Boosting) provided the strongest predictive power for both classification and regression tasks on this dataset.\n",
    "  - Neural networks showed potential but did not surpass ensemble models in this tabular financial dataset.\n",
    "  - The analysis highlights the importance of **feature quality and interpretability** in credit risk modeling, where both predictive accuracy and explainability matter."
   ]
  }
 ],
 "metadata": {
  "kernelspec": {
   "display_name": "Python [conda env:base] *",
   "language": "python",
   "name": "conda-base-py"
  },
  "language_info": {
   "codemirror_mode": {
    "name": "ipython",
    "version": 3
   },
   "file_extension": ".py",
   "mimetype": "text/x-python",
   "name": "python",
   "nbconvert_exporter": "python",
   "pygments_lexer": "ipython3",
   "version": "3.11.9"
  }
 },
 "nbformat": 4,
 "nbformat_minor": 5
}
